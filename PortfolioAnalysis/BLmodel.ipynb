{
 "cells": [
  {
   "cell_type": "markdown",
   "metadata": {},
   "source": [
    "<p style='text-align: right;'>初項：2024年8月26日</p>\n",
    "<h3 align=\"center\">Black-Littermanモデルでのviewの不確実性の設定案とウェイトの分布算出方法案</h3>\n",
    "<p style='text-align: right;'>藤原　哉</p>\n"
   ]
  },
  {
   "cell_type": "markdown",
   "metadata": {},
   "source": [
    "### 1. viewの不確実性の与え方\n",
    "BLモデルではリターンそのもののviewを与える方法とリターンの平均のviewを与える方法の２つの流儀がある。このメモでは、後者のリターンの平均のviewを与える方法を用いる。\n",
    "\n",
    "#### 1-1. 市場変動の仮定\n",
    "市場参加者が市場変動について共通の見解を持つと仮定する。\n",
    "\n",
    "資産のリターンを $r_M \\in \\mathbb{R}^{n}$として、確率分布は\n",
    "$$\n",
    "\\begin{align*}\n",
    "p(r_M \\vert \\mu_M) \\sim N(\\mu_M, \\Sigma)\n",
    "\\end{align*}\n",
    "$$\n",
    "とする。$\\Sigma$はヒストリカルデータから推定する。さらに平均 $\\mu_M$には不確実性があるとして\n",
    "$$\n",
    "\\begin{align*}\n",
    "&\\ p(\\mu_M) \\sim (\\pi_M, \\tau \\Sigma) \\\\\n",
    "&\\ \\tau \\in \\mathbb{R}^{+}\n",
    "\\end{align*}\n",
    "$$\n",
    "とする。\n",
    "\n",
    "将来の市場変動の確率分布は\n",
    "$$\n",
    "p(r_M) \\sim N(\\pi_M, (1+\\tau)\\Sigma)\n",
    "$$\n",
    "となる。\n",
    "\n",
    "このとき、市場参加者の効用関数を $u(W) = -\\mathrm{e}^{-\\delta W }$と仮定する。市場でのウェイトを$w_M$とすると期待効用最大化から\n",
    "$$\n",
    "\\pi_M = \\delta (1+\\tau) \\Sigma w_M\n",
    "$$\n",
    "となる。\n"
   ]
  },
  {
   "cell_type": "markdown",
   "metadata": {},
   "source": [
    "自分の相場見通しを $r_v \\in \\mathbb{R}^{n_v}$, 相場見通しを表現する行列を $F \\in \\mathbb{R}^{n_v \\times n}$とする。\n",
    "相場見通しの分布を\n",
    "$$\n",
    "p(r_v \\vert \\mu_M) \\sim N(F \\mu_M, \\Omega)\n",
    "$$\n",
    "とする。相場見通しの分散共分散行列の候補として\n",
    "$$\n",
    "\\Omega = \\mathrm{Var}\\left[F\\mu_M \\right] = \\tau F \\Sigma F^{\\top}\n",
    "$$\n",
    "が考えられる。\n",
    "さらに、$F\\mu_M$の標準偏差$\\sqrt{\\mathrm{diag}(\\tau F \\Sigma F^{\\top})}$を $c_1,\\cdots,c_{n_v}$倍するために $C = \\mathrm{diag}(c_1,\\cdots, c_{n_v})$とすると相場見通しの分散共分散行列の候補として\n",
    "$$\n",
    "\\Omega = \\mathrm{Var}\\left[C F \\mu_M \\right] = \\tau CF \\Sigma F^{\\top}C\n",
    "$$\n",
    "が考えられる。\n",
    "\n",
    "最初の候補は調整項は $\\tau$だけであるので悩みは少ない。２番目の候補は相場見通しの要素ごとに調整可能であるので自由度が大きくなる。２番目の方法で $c_1=\\cdots=c_{n_v} = 1$とすると最初の候補と同じになる。"
   ]
  },
  {
   "cell_type": "markdown",
   "metadata": {},
   "source": [
    "### ２．ウェイトの分布\n",
    "BLモデルでの平均の事後分布は\n",
    "$$\n",
    "\\begin{align*}\n",
    "&\\ p(\\mu_M \\vert r_v) \\sim N(\\mu_{BL}, \\Sigma_{BL}^{\\mu} ) \\\\\n",
    "&\\ \\Sigma_{BL}^{\\mu} = \\left( \\left(\\tau \\Sigma \\right)^{-1} + F^{\\top}\\Omega^{-1}F \\right)^{-1} \\\\\n",
    "&\\ \\mu_{BL} = \\Sigma_{BL}^{\\mu} \\left( \\left(\\tau \\Sigma \\right)^{-1} \\pi_M  + F^{\\top} \\Omega^{-1} r_v \\right)\n",
    "\\end{align*}\n",
    "$$\n",
    "となる。また、リターンの事後分布は\n",
    "$$\n",
    "\\begin{align*}\n",
    "&\\ p(r_M \\vert r_v) \\sim N(\\mu_{BL}, \\Sigma_{BL}) \\\\\n",
    "&\\ \\Sigma_{BL} = \\Sigma + \\Sigma_{BL}^{\\mu} \n",
    "\\end{align*}\n",
    "$$\n",
    "となる。"
   ]
  },
  {
   "cell_type": "markdown",
   "metadata": {},
   "source": [
    "平均分散アプローチでの最適ポートフォリオはポートフォリオへの要求リターンを$\\mu_p$とすると投資比率は\n",
    "$$\n",
    "w = \\frac{\\mu_p - R_f}{\\left(\\mu_{BL}-R_f \\mathbb{1} \\right)^{\\top}\\Sigma_{BL}^{-1}\\left(\\mu_{BL}-R_f \\mathbb{1} \\right)} \\Sigma_{BL}^{-1} \\left(\\mu_{BL} -R_f \\mathbb{1} \\right)\n",
    "$$\n",
    "となる。\n",
    "$p(\\mu_M \\vert r_v) \\sim N(\\mu_{BL}, \\Sigma_{BL}^{\\mu})$であるので、 $w$での $\\mu_{BL}$を $\\mu_M \\vert r_v$で置き換えると $w$の確率分布を求めることができる。"
   ]
  }
 ],
 "metadata": {
  "language_info": {
   "name": "python"
  }
 },
 "nbformat": 4,
 "nbformat_minor": 2
}
