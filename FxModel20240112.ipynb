{
 "cells": [
  {
   "cell_type": "code",
   "execution_count": 1,
   "metadata": {},
   "outputs": [
    {
     "name": "stdout",
     "output_type": "stream",
     "text": [
      "gpytorch is already installed\n"
     ]
    }
   ],
   "source": [
    "import importlib\n",
    "\n",
    "if importlib.util.find_spec('gpytorch') is None:\n",
    "    !pip install gpytorch\n",
    "else:\n",
    "    print('gpytorch is already installed')\n",
    "\n",
    "import pandas as pd\n",
    "from data_preprocessing import S3DataFrame, DataConverter  # カスタムデータクラス\n",
    "from typing import Callable  # lambda関数での型アノテーション\n",
    "\n",
    "# 必要なライブラリのインポート\n",
    "\n",
    "import torch\n",
    "import time\n",
    "import csv\n",
    "from baseGPR import GPModel\n",
    "from localUtil import mk_data_for_gpr, mk_prediction\n",
    "\n",
    "import requests\n",
    "\n",
    "def is_running_on_aws():\n",
    "    try:\n",
    "        # AWS EC2 instances have a metadata service at this IP address\n",
    "        response = requests.get('http://169.254.169.254/', timeout=1)\n",
    "        return response.status_code == 200\n",
    "    except requests.exceptions.RequestException:\n",
    "        return False"
   ]
  },
  {
   "cell_type": "code",
   "execution_count": 2,
   "metadata": {},
   "outputs": [],
   "source": [
    "# ファイルの在処\n",
    "if is_running_on_aws():\n",
    "    bucket_name = 'sharebucket-aiml'\n",
    "    object_name = 'dc-to-risk/market/MarketDataForFxModel.csv'\n",
    "    s3df = S3DataFrame(bucket_name, object_name)\n",
    "else:\n",
    "    file_name = 'MarketDataForFxModel.csv'\n",
    "    s3df = S3DataFrame.genDataFrameObjFromLocalFile(file_name)"
   ]
  },
  {
   "cell_type": "code",
   "execution_count": 3,
   "metadata": {},
   "outputs": [
    {
     "name": "stdout",
     "output_type": "stream",
     "text": [
      "Using cpu device\n"
     ]
    }
   ],
   "source": [
    "# Check if GPU is available\n",
    "device = torch.device('cuda' if torch.cuda.is_available() else 'cpu')\n",
    "print('Using {} device'.format(device))"
   ]
  },
  {
   "cell_type": "code",
   "execution_count": 5,
   "metadata": {},
   "outputs": [
    {
     "name": "stderr",
     "output_type": "stream",
     "text": [
      "/workspaces/FxModelTest/data_preprocessing.py:103: FutureWarning: The default fill_method='pad' in Series.pct_change is deprecated and will be removed in a future version. Either fill in any non-leading NA values prior to calling pct_change or specify 'fill_method=None' to not fill NA values.\n",
      "  rtndf[new_header] = rtndf[header].pct_change(periods=n)\n",
      "/workspaces/FxModelTest/data_preprocessing.py:103: FutureWarning: The default fill_method='pad' in Series.pct_change is deprecated and will be removed in a future version. Either fill in any non-leading NA values prior to calling pct_change or specify 'fill_method=None' to not fill NA values.\n",
      "  rtndf[new_header] = rtndf[header].pct_change(periods=n)\n"
     ]
    }
   ],
   "source": [
    "# 推定・予測の設定、初期化\n",
    "\n",
    "start_date = '2018-01-01'\n",
    "end_date = '2018-01-10'\n",
    "\n",
    "n_iter = 100\n",
    "\n",
    "# 基本データ　為替は予測対象なのでシフト対象、株式,為替レートは説明変数\n",
    "ndays = 20\n",
    "header_w_shift_list = ['USDJPY']\n",
    "header_wo_shift_list = ['USDJPY', 'NK225', 'SP500']\n",
    "\n",
    "mk_feature_set: Callable[[int], pd.DataFrame] = lambda dt: ['date', f'NK225_Return_{dt}', f'SP500_Return_{dt}', 'NK225VolatilityIndex', 'SPXVolatilityIndex' , f'USDJPY_Return_{dt}', 'USDJPYIV1MATM', 'XI', 'DFd', 'DFf']\n",
    "\n",
    "base_data = DataConverter(s3df=s3df, ndays=ndays, feature_set=mk_feature_set(ndays), rtn_set_w_shft=header_w_shift_list, rtn_set_wo_shft=header_wo_shift_list)\n",
    "\n",
    "lossess = []\n",
    "dates = []\n",
    "preds = []\n",
    "probs = []\n",
    "stds = []\n",
    "acts = []\n",
    "\n",
    "seed = 0\n",
    "torch.manual_seed(seed)\n",
    "if torch.cuda.is_available():\n",
    "    torch.cuda.manual_seed_all(seed)\n",
    "# np.random.seed(seed)\n",
    "\n",
    "model_types = [\"RBF\", \"Matern\"]\n",
    "\n",
    "model_type = 0\n",
    "nu = 2.5  # Matern Kernelの自由度"
   ]
  },
  {
   "cell_type": "code",
   "execution_count": 6,
   "metadata": {},
   "outputs": [
    {
     "name": "stdout",
     "output_type": "stream",
     "text": [
      "2018-01-04 Learning time: 72.728\n",
      "2018-01-05 Learning time: 66.647\n",
      "2018-01-09 Learning time: 64.997\n",
      "        Date    Actual   Predict  ProbAboveZero       Std\n",
      "0 2018-01-04 -0.024312  0.006084       0.622502  0.019498\n",
      "1 2018-01-05 -0.015565  0.001875       0.536723  0.020341\n",
      "2 2018-01-09 -0.013330  0.004138       0.581829  0.020030\n"
     ]
    }
   ],
   "source": [
    "# gpytorch を使ったガウス過程回帰による推定・予測\n",
    "for base_date in base_data.get_base_dates(start_date, end_date):\n",
    "    start_time = time.time()\n",
    "    train_prem, train_feature, train_data, test_feature, test_data = mk_data_for_gpr(base_data, base_date, device)\n",
    "    # データの特徴とターゲットの学習\n",
    "    # モデルの設定\n",
    "    match model_types[model_type]:\n",
    "        case \"RBF\":\n",
    "            model, likelihood, trainer = GPModel.standard_initialize(train_feature, train_prem, device)\n",
    "        case \"Matern\":\n",
    "            model, likelihood, trainer = GPModel.keoops_Matern_initialize(train_feature, train_prem, nu, device)\n",
    "        case _:\n",
    "            raise Exception(\"unexpected mode is specified.\")\n",
    "\n",
    "    # モデルの学習\n",
    "    losses = trainer.train(model, likelihood, train_feature, train_prem, n_iter=n_iter)\n",
    "    lossess.append(losses[-1])\n",
    "\n",
    "    # テストデータに対する予測\n",
    "    mean, varinace = trainer.predict(test_feature[0].view(1, test_feature.shape[1]))\n",
    "    fxrtn_act, fxrtn_mean, fxrtn_std, probability_less_than_x = mk_prediction(mean, varinace, test_data.iloc[0])\n",
    "    dates.append(base_date)\n",
    "    preds.append(fxrtn_mean)\n",
    "    probs.append(probability_less_than_x)\n",
    "    stds.append(fxrtn_std)\n",
    "    acts.append(fxrtn_act)\n",
    "\n",
    "    print(f'{base_date.strftime(\"%Y-%m-%d\")} Learning time: %.3f' % (time.time() - start_time))\n",
    "\n",
    "rst_df = pd.DataFrame({'Date': dates, 'Actual': acts, 'Predict': preds, 'ProbAboveZero': probs, 'Std': stds})\n",
    "\n",
    "print(rst_df)"
   ]
  },
  {
   "cell_type": "code",
   "execution_count": null,
   "metadata": {},
   "outputs": [],
   "source": [
    "# 予測結果の保存\n",
    "rst_df.to_csv(f'rst_{start_date}_{end_date}.csv')\n",
    "\n",
    "# 損失の保存\n",
    "with open(f'損失_{start_date}_{end_date}.csv', 'w', newline='') as f:\n",
    "    writer = csv.writer(f)\n",
    "    # リストを書き込む\n",
    "    writer.writerow(lossess)\n",
    "\n",
    "# numpy配列をpandasのDataFrameに変換します\n",
    "df = pd.DataFrame(train_prem.cpu().numpy())\n",
    "# DataFrameをCSVファイルに保存します\n",
    "df.to_csv('premiums.csv', index=False)\n",
    "\n",
    "# numpy配列をpandasのDataFrameに変換します\n",
    "df = pd.DataFrame(train_feature.cpu().numpy())\n",
    "# DataFrameをCSVファイルに保存します\n",
    "df.to_csv('features.csv', index=False)"
   ]
  }
 ],
 "metadata": {
  "kernelspec": {
   "display_name": "Python 3",
   "language": "python",
   "name": "python3"
  },
  "language_info": {
   "codemirror_mode": {
    "name": "ipython",
    "version": 3
   },
   "file_extension": ".py",
   "mimetype": "text/x-python",
   "name": "python",
   "nbconvert_exporter": "python",
   "pygments_lexer": "ipython3",
   "version": "3.10.13"
  }
 },
 "nbformat": 4,
 "nbformat_minor": 2
}
