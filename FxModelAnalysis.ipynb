{
 "cells": [
  {
   "cell_type": "code",
   "execution_count": null,
   "metadata": {},
   "outputs": [],
   "source": [
    "import pandas as pd\n",
    "import matplotlib.pyplot as plt"
   ]
  },
  {
   "cell_type": "code",
   "execution_count": null,
   "metadata": {},
   "outputs": [],
   "source": [
    "file_name = './Result1(20days_RBF)/rst_2018-01-01_2023-05-10.csv'\n",
    "#file_name = './Exp1new(20days_RBF)/rst_2018-01-01_2023-06-10_check.csv'\n",
    "mydf = pd.read_csv(file_name)\n",
    "mydf['Date'] = pd.to_datetime(mydf['Date'])\n",
    "print(mydf)"
   ]
  },
  {
   "cell_type": "code",
   "execution_count": null,
   "metadata": {},
   "outputs": [],
   "source": [
    "# グラフのレイアウトを設定\n",
    "fig, axs = plt.subplots(3, 2, figsize=(10, 15))\n",
    "\n",
    "# 指定した年の範囲\n",
    "years = range(2018, 2024)\n",
    "\n",
    "for i, year in enumerate(years):\n",
    "    # 年ごとのデータを抽出\n",
    "    mydf_year = mydf[mydf['Date'].dt.year == year]\n",
    "\n",
    "    # 散布図を描く\n",
    "    axs[i//2, i%2].scatter(mydf_year['Actual'], mydf_year['Predict'])\n",
    "\n",
    "    # 45度線を描く\n",
    "    axs[i//2, i%2].plot([mydf_year['Actual'].min(), mydf_year['Actual'].max()], [mydf_year['Actual'].min(), mydf_year['Actual'].max()], color='red')\n",
    "\n",
    "    # グラフのタイトルと軸ラベルを設定\n",
    "    axs[i//2, i%2].set_title(f'Scatter plot of Actual and Prediction in {year}')\n",
    "    axs[i//2, i%2].set_xlabel('Actual')\n",
    "    axs[i//2, i%2].set_ylabel('Prediction')\n",
    "    axs[i//2, i%2].grid(True)\n",
    "# グラフを表示\n",
    "plt.tight_layout()\n",
    "plt.show()"
   ]
  },
  {
   "cell_type": "code",
   "execution_count": null,
   "metadata": {},
   "outputs": [],
   "source": [
    "# グラフのレイアウトを設定\n",
    "fig, axs = plt.subplots(3, 2, figsize=(10, 15))\n",
    "\n",
    "# 指定した年の範囲\n",
    "years = range(2018, 2024)\n",
    "\n",
    "for i, year in enumerate(years):\n",
    "    # 年ごとのデータを抽出\n",
    "    mydf_year = mydf[mydf['Date'].dt.year == year]\n",
    "\n",
    "    # 散布図を描く\n",
    "    axs[i//2, i%2].scatter(mydf_year['ProbAboveZero'], mydf_year['Predict'])\n",
    "    axs[i//2, i%2].scatter(mydf_year['ProbAboveZero'], mydf_year['Actual'])\n",
    "\n",
    "    # 45度線を描く\n",
    "    axs[i//2, i%2].plot([0, 1], [0, 0], color='red')\n",
    "\n",
    "    # グラフのタイトルと軸ラベルを設定\n",
    "    axs[i//2, i%2].set_title(f'Prob Above Zero and Prediction and Actual in {year}')\n",
    "    axs[i//2, i%2].set_xlabel('Probability Above Zero')\n",
    "    axs[i//2, i%2].set_ylabel('Prediction/Actual')\n",
    "    axs[i//2, i%2].grid(True)\n",
    "# グラフを表示\n",
    "plt.tight_layout()\n",
    "plt.show()"
   ]
  },
  {
   "cell_type": "code",
   "execution_count": null,
   "metadata": {},
   "outputs": [],
   "source": [
    "# グラフのレイアウトを設定\n",
    "fig, axs = plt.subplots(3, 2, figsize=(10, 15))\n",
    "\n",
    "# 指定した年の範囲\n",
    "years = range(2018, 2024)\n",
    "\n",
    "for i, year in enumerate(years):\n",
    "    # 年ごとのデータを抽出\n",
    "    mydf_year = mydf[mydf['Date'].dt.year == year]\n",
    "\n",
    "    # 散布図を描く\n",
    "    axs[i//2, i%2].plot(mydf_year['Date'], mydf_year['Predict'], linestyle='-', marker='.')\n",
    "    axs[i//2, i%2].plot(mydf_year['Date'], mydf_year['Actual'], linestyle='-', marker='.')\n",
    "\n",
    "    # グラフのタイトルと軸ラベルを設定\n",
    "    axs[i//2, i%2].set_title(f'Prediction and Actual in {year}')\n",
    "    axs[i//2, i%2].set_xlabel('date')\n",
    "    axs[i//2, i%2].set_ylabel('Prediction/Actual')\n",
    "    axs[i//2, i%2].grid(True)\n",
    "# グラフを表示\n",
    "plt.tight_layout()\n",
    "plt.show()"
   ]
  }
 ],
 "metadata": {
  "language_info": {
   "name": "python"
  }
 },
 "nbformat": 4,
 "nbformat_minor": 2
}
